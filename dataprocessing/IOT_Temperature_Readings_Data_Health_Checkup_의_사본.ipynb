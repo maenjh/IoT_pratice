{
  "cells": [
    {
      "cell_type": "code",
      "execution_count": 1,
      "metadata": {},
      "outputs": [
        {
          "name": "stdout",
          "output_type": "stream",
          "text": [
            "Requirement already satisfied: numpy in c:\\users\\m\\desktop\\dataprocessing\\.venv\\lib\\site-packages (2.2.1)\n",
            "Requirement already satisfied: pandas in c:\\users\\m\\desktop\\dataprocessing\\.venv\\lib\\site-packages (2.2.3)\n",
            "Requirement already satisfied: matplotlib in c:\\users\\m\\desktop\\dataprocessing\\.venv\\lib\\site-packages (3.10.0)\n",
            "Requirement already satisfied: datetime in c:\\users\\m\\desktop\\dataprocessing\\.venv\\lib\\site-packages (5.5)\n",
            "Requirement already satisfied: python-dateutil>=2.8.2 in c:\\users\\m\\desktop\\dataprocessing\\.venv\\lib\\site-packages (from pandas) (2.9.0.post0)\n",
            "Requirement already satisfied: pytz>=2020.1 in c:\\users\\m\\desktop\\dataprocessing\\.venv\\lib\\site-packages (from pandas) (2024.2)\n",
            "Requirement already satisfied: tzdata>=2022.7 in c:\\users\\m\\desktop\\dataprocessing\\.venv\\lib\\site-packages (from pandas) (2024.2)\n",
            "Requirement already satisfied: contourpy>=1.0.1 in c:\\users\\m\\desktop\\dataprocessing\\.venv\\lib\\site-packages (from matplotlib) (1.3.1)\n",
            "Requirement already satisfied: cycler>=0.10 in c:\\users\\m\\desktop\\dataprocessing\\.venv\\lib\\site-packages (from matplotlib) (0.12.1)\n",
            "Requirement already satisfied: fonttools>=4.22.0 in c:\\users\\m\\desktop\\dataprocessing\\.venv\\lib\\site-packages (from matplotlib) (4.55.3)\n",
            "Requirement already satisfied: kiwisolver>=1.3.1 in c:\\users\\m\\desktop\\dataprocessing\\.venv\\lib\\site-packages (from matplotlib) (1.4.8)\n",
            "Requirement already satisfied: packaging>=20.0 in c:\\users\\m\\desktop\\dataprocessing\\.venv\\lib\\site-packages (from matplotlib) (24.2)\n",
            "Requirement already satisfied: pillow>=8 in c:\\users\\m\\desktop\\dataprocessing\\.venv\\lib\\site-packages (from matplotlib) (11.1.0)\n",
            "Requirement already satisfied: pyparsing>=2.3.1 in c:\\users\\m\\desktop\\dataprocessing\\.venv\\lib\\site-packages (from matplotlib) (3.2.1)\n",
            "Requirement already satisfied: zope.interface in c:\\users\\m\\desktop\\dataprocessing\\.venv\\lib\\site-packages (from datetime) (7.2)\n",
            "Requirement already satisfied: six>=1.5 in c:\\users\\m\\desktop\\dataprocessing\\.venv\\lib\\site-packages (from python-dateutil>=2.8.2->pandas) (1.17.0)\n",
            "Requirement already satisfied: setuptools in c:\\users\\m\\desktop\\dataprocessing\\.venv\\lib\\site-packages (from zope.interface->datetime) (65.5.0)\n",
            "Note: you may need to restart the kernel to use updated packages.\n"
          ]
        }
      ],
      "source": [
        "# 필요한 라이브러리 설치\n",
        "\n",
        "# numpy: 데이터 분석 및 수학 계산용\n",
        "# pandas: 데이터프레임 작업용\n",
        "# matplotlib: 데이터 시각화용\n",
        "# datetime: 날짜 및 시간 처리용 (Python 표준 라이브러리)\n",
        "# 위 라이브러리 설치 실행 명령어어\n",
        "%pip install numpy pandas matplotlib datetime\n",
        "\n",
        "# 설치한 라이브러리 이외로 누락이 있을수 있습니다."
      ]
    },
    {
      "cell_type": "code",
      "execution_count": 2,
      "metadata": {
        "_cell_guid": "b1076dfc-b9ad-4769-8c92-a6c4dae69d19",
        "_uuid": "8f2839f25d086af736a60e9eeb907d3b93b6e0e5",
        "id": "c_KxfdYKmvsm",
        "trusted": true
      },
      "outputs": [],
      "source": [
        "import numpy as np \n",
        "import pandas as pd \n",
        "import datetime as dt\n",
        "import matplotlib.pyplot as plt\n",
        "%matplotlib inline\n",
        "# jupyter Notebook에서 사용하는 매직 명령어입니다. 이 명령어는 그래프를 생성한 후 해당 그래프를 노트북의 셀 내부에 즉시 렌더링(표시)하도록 설정\n",
        "import os\n"
      ]
    },
    {
      "cell_type": "code",
      "execution_count": 3,
      "metadata": {
        "_cell_guid": "79c7e3d0-c299-4dcb-8224-4455121ee9b0",
        "_uuid": "d629ff2d2480ee46fbb7e2d37f6b5fab8052498a",
        "id": "HXaHRZZrmvsm",
        "trusted": true
      },
      "outputs": [
        {
          "data": {
            "text/html": [
              "<div>\n",
              "<style scoped>\n",
              "    .dataframe tbody tr th:only-of-type {\n",
              "        vertical-align: middle;\n",
              "    }\n",
              "\n",
              "    .dataframe tbody tr th {\n",
              "        vertical-align: top;\n",
              "    }\n",
              "\n",
              "    .dataframe thead th {\n",
              "        text-align: right;\n",
              "    }\n",
              "</style>\n",
              "<table border=\"1\" class=\"dataframe\">\n",
              "  <thead>\n",
              "    <tr style=\"text-align: right;\">\n",
              "      <th></th>\n",
              "      <th>id</th>\n",
              "      <th>room_id/id</th>\n",
              "      <th>noted_date</th>\n",
              "      <th>temp</th>\n",
              "      <th>out/in</th>\n",
              "    </tr>\n",
              "  </thead>\n",
              "  <tbody>\n",
              "    <tr>\n",
              "      <th>0</th>\n",
              "      <td>__export__.temp_log_196134_bd201015</td>\n",
              "      <td>Room Admin</td>\n",
              "      <td>08-12-2018 09:30</td>\n",
              "      <td>29</td>\n",
              "      <td>In</td>\n",
              "    </tr>\n",
              "    <tr>\n",
              "      <th>1</th>\n",
              "      <td>__export__.temp_log_196131_7bca51bc</td>\n",
              "      <td>Room Admin</td>\n",
              "      <td>08-12-2018 09:30</td>\n",
              "      <td>29</td>\n",
              "      <td>In</td>\n",
              "    </tr>\n",
              "    <tr>\n",
              "      <th>2</th>\n",
              "      <td>__export__.temp_log_196127_522915e3</td>\n",
              "      <td>Room Admin</td>\n",
              "      <td>08-12-2018 09:29</td>\n",
              "      <td>41</td>\n",
              "      <td>Out</td>\n",
              "    </tr>\n",
              "    <tr>\n",
              "      <th>3</th>\n",
              "      <td>__export__.temp_log_196128_be0919cf</td>\n",
              "      <td>Room Admin</td>\n",
              "      <td>08-12-2018 09:29</td>\n",
              "      <td>41</td>\n",
              "      <td>Out</td>\n",
              "    </tr>\n",
              "    <tr>\n",
              "      <th>4</th>\n",
              "      <td>__export__.temp_log_196126_d30b72fb</td>\n",
              "      <td>Room Admin</td>\n",
              "      <td>08-12-2018 09:29</td>\n",
              "      <td>31</td>\n",
              "      <td>In</td>\n",
              "    </tr>\n",
              "  </tbody>\n",
              "</table>\n",
              "</div>"
            ],
            "text/plain": [
              "                                    id  room_id/id        noted_date  temp  \\\n",
              "0  __export__.temp_log_196134_bd201015  Room Admin  08-12-2018 09:30    29   \n",
              "1  __export__.temp_log_196131_7bca51bc  Room Admin  08-12-2018 09:30    29   \n",
              "2  __export__.temp_log_196127_522915e3  Room Admin  08-12-2018 09:29    41   \n",
              "3  __export__.temp_log_196128_be0919cf  Room Admin  08-12-2018 09:29    41   \n",
              "4  __export__.temp_log_196126_d30b72fb  Room Admin  08-12-2018 09:29    31   \n",
              "\n",
              "  out/in  \n",
              "0     In  \n",
              "1     In  \n",
              "2    Out  \n",
              "3    Out  \n",
              "4     In  "
            ]
          },
          "metadata": {},
          "output_type": "display_data"
        },
        {
          "name": "stdout",
          "output_type": "stream",
          "text": [
            "Shape of Dataset :  (97606, 5)\n"
          ]
        }
      ],
      "source": [
        "dataset = pd.read_csv(\"IOT-temp.csv\")\n",
        "display(dataset.head())\n",
        "print(\"Shape of Dataset : \", dataset.shape)"
      ]
    },
    {
      "cell_type": "markdown",
      "metadata": {
        "id": "_F0kItmumvsm"
      },
      "source": [
        "열의 상태를 확인해 보겠습니다."
      ]
    },
    {
      "cell_type": "code",
      "execution_count": 4,
      "metadata": {
        "id": "bzuVXXwNmvsn",
        "trusted": true
      },
      "outputs": [
        {
          "data": {
            "text/plain": [
              "id            object\n",
              "room_id/id    object\n",
              "noted_date    object\n",
              "temp           int64\n",
              "out/in        object\n",
              "dtype: object"
            ]
          },
          "execution_count": 4,
          "metadata": {},
          "output_type": "execute_result"
        }
      ],
      "source": [
        "dataset.dtypes"
      ]
    },
    {
      "cell_type": "code",
      "execution_count": 5,
      "metadata": {
        "id": "iNhHuTWkmvsn",
        "trusted": true
      },
      "outputs": [
        {
          "data": {
            "text/plain": [
              "1"
            ]
          },
          "execution_count": 5,
          "metadata": {},
          "output_type": "execute_result"
        }
      ],
      "source": [
        "dataset[\"room_id/id\"].nunique()\n"
      ]
    },
    {
      "cell_type": "markdown",
      "metadata": {
        "id": "Ig5AndH5mvsn"
      },
      "source": [
        "1. Since the unique values of column *room_id/id* is 1, we can drop this column alongwith the *id* column.\n",
        "2. Also column name 'out/in' isn't a good column name, let's rename it to 'Out_In'.\n",
        "3. We can also see the presence of some duplicate records. We need to handle those as well."
      ]
    },
    {
      "cell_type": "code",
      "execution_count": 6,
      "metadata": {
        "id": "IQY2grhAmvsn",
        "trusted": true
      },
      "outputs": [],
      "source": [
        "dataset.drop(columns=['room_id/id','id'], inplace=True)"
      ]
    },
    {
      "cell_type": "code",
      "execution_count": 7,
      "metadata": {
        "id": "p2YF75i2mvsn",
        "trusted": true
      },
      "outputs": [],
      "source": [
        "dataset.rename(columns={'out/in':\"Out_In\"}, inplace=True)"
      ]
    },
    {
      "cell_type": "code",
      "execution_count": 8,
      "metadata": {
        "id": "aB4A43WRmvsn",
        "trusted": true
      },
      "outputs": [
        {
          "name": "stdout",
          "output_type": "stream",
          "text": [
            "Before duplicate treatment :  (97606, 3)\n",
            "After duplicate treatment :  (37268, 3)\n"
          ]
        }
      ],
      "source": [
        "print(\"Before duplicate treatment : \", dataset.shape)\n",
        "dataset.drop_duplicates(subset=['noted_date','Out_In','temp'], keep='first',inplace=True)\n",
        "print(\"After duplicate treatment : \", dataset.shape)"
      ]
    },
    {
      "cell_type": "markdown",
      "metadata": {
        "id": "txM0OuzRmvsn"
      },
      "source": [
        "Let's check the timespan in which the data was recorded."
      ]
    },
    {
      "cell_type": "code",
      "execution_count": 9,
      "metadata": {
        "id": "VcGbGiMzmvsn",
        "trusted": true
      },
      "outputs": [
        {
          "name": "stdout",
          "output_type": "stream",
          "text": [
            "Data recorded from 01-11-2018 00:06 to 31-10-2018 23:57\n",
            "Minimum Temperature : 21 degrees \n",
            "Maximum Temperature : 51 degrees\n"
          ]
        }
      ],
      "source": [
        "print(\"Data recorded from {} to {}\".format(min(dataset.noted_date), max(dataset.noted_date)))\n",
        "print(\"Minimum Temperature : {} degrees \\nMaximum Temperature : {} degrees\".format(min(dataset.temp), max(dataset.temp)))"
      ]
    },
    {
      "cell_type": "markdown",
      "metadata": {
        "id": "So9esvKVmvso"
      },
      "source": [
        "Good! We have about an year's worth of data recorded from 1st November,2018 to 31st October,2018.\n",
        "Let's have a look at the frequency of the sensor in a day i.e. how many times in a day the sensor measures the temperature.\n",
        "\n",
        "Let's create the column for the _date_ first, since the *noted_date* has both DD/MM/YYY and the HH:MM components together.\n",
        "\n",
        "We can use the _noted_date_ column to create a lot of columns basis date and time!\n",
        "\n",
        "Let's go!"
      ]
    },
    {
      "cell_type": "code",
      "execution_count": 10,
      "metadata": {
        "id": "W1ygdV6fmvso",
        "trusted": true
      },
      "outputs": [
        {
          "data": {
            "text/html": [
              "<div>\n",
              "<style scoped>\n",
              "    .dataframe tbody tr th:only-of-type {\n",
              "        vertical-align: middle;\n",
              "    }\n",
              "\n",
              "    .dataframe tbody tr th {\n",
              "        vertical-align: top;\n",
              "    }\n",
              "\n",
              "    .dataframe thead th {\n",
              "        text-align: right;\n",
              "    }\n",
              "</style>\n",
              "<table border=\"1\" class=\"dataframe\">\n",
              "  <thead>\n",
              "    <tr style=\"text-align: right;\">\n",
              "      <th></th>\n",
              "      <th>temp</th>\n",
              "      <th>Out_In</th>\n",
              "      <th>date</th>\n",
              "      <th>day</th>\n",
              "      <th>month</th>\n",
              "      <th>year</th>\n",
              "      <th>hour</th>\n",
              "      <th>minute</th>\n",
              "    </tr>\n",
              "  </thead>\n",
              "  <tbody>\n",
              "    <tr>\n",
              "      <th>0</th>\n",
              "      <td>29</td>\n",
              "      <td>In</td>\n",
              "      <td>2018-12-08</td>\n",
              "      <td>8</td>\n",
              "      <td>12</td>\n",
              "      <td>2018</td>\n",
              "      <td>9</td>\n",
              "      <td>30</td>\n",
              "    </tr>\n",
              "    <tr>\n",
              "      <th>2</th>\n",
              "      <td>41</td>\n",
              "      <td>Out</td>\n",
              "      <td>2018-12-08</td>\n",
              "      <td>8</td>\n",
              "      <td>12</td>\n",
              "      <td>2018</td>\n",
              "      <td>9</td>\n",
              "      <td>29</td>\n",
              "    </tr>\n",
              "    <tr>\n",
              "      <th>4</th>\n",
              "      <td>31</td>\n",
              "      <td>In</td>\n",
              "      <td>2018-12-08</td>\n",
              "      <td>8</td>\n",
              "      <td>12</td>\n",
              "      <td>2018</td>\n",
              "      <td>9</td>\n",
              "      <td>29</td>\n",
              "    </tr>\n",
              "    <tr>\n",
              "      <th>6</th>\n",
              "      <td>29</td>\n",
              "      <td>In</td>\n",
              "      <td>2018-12-08</td>\n",
              "      <td>8</td>\n",
              "      <td>12</td>\n",
              "      <td>2018</td>\n",
              "      <td>9</td>\n",
              "      <td>28</td>\n",
              "    </tr>\n",
              "    <tr>\n",
              "      <th>8</th>\n",
              "      <td>29</td>\n",
              "      <td>In</td>\n",
              "      <td>2018-12-08</td>\n",
              "      <td>8</td>\n",
              "      <td>12</td>\n",
              "      <td>2018</td>\n",
              "      <td>9</td>\n",
              "      <td>26</td>\n",
              "    </tr>\n",
              "  </tbody>\n",
              "</table>\n",
              "</div>"
            ],
            "text/plain": [
              "   temp Out_In        date  day  month  year  hour  minute\n",
              "0    29     In  2018-12-08    8     12  2018     9      30\n",
              "2    41    Out  2018-12-08    8     12  2018     9      29\n",
              "4    31     In  2018-12-08    8     12  2018     9      29\n",
              "6    29     In  2018-12-08    8     12  2018     9      28\n",
              "8    29     In  2018-12-08    8     12  2018     9      26"
            ]
          },
          "execution_count": 10,
          "metadata": {},
          "output_type": "execute_result"
        }
      ],
      "source": [
        "dataset['date'] = dataset['noted_date'].apply(lambda x: dt.datetime.strptime(x, '%d-%m-%Y %H:%M').date())\n",
        "\n",
        "\n",
        "dataset['day'] = dataset['noted_date'].apply(lambda x: dt.datetime.strptime(x, '%d-%m-%Y %H:%M').day)\n",
        "dataset['month'] = dataset['noted_date'].apply(lambda x: dt.datetime.strptime(x, '%d-%m-%Y %H:%M').month)\n",
        "dataset['year'] = dataset['noted_date'].apply(lambda x: dt.datetime.strptime(x, '%d-%m-%Y %H:%M').year)\n",
        "\n",
        "dataset['hour'] = dataset['noted_date'].apply(lambda x: dt.datetime.strptime(x, '%d-%m-%Y %H:%M').hour)\n",
        "dataset['minute'] = dataset['noted_date'].apply(lambda x: dt.datetime.strptime(x, '%d-%m-%Y %H:%M').minute)\n",
        "dataset.drop(columns = ['noted_date'], inplace = True)\n",
        "dataset.head()"
      ]
    },
    {
      "cell_type": "code",
      "execution_count": 11,
      "metadata": {
        "id": "iS5YSPJUmvso",
        "trusted": true
      },
      "outputs": [
        {
          "name": "stdout",
          "output_type": "stream",
          "text": [
            "<class 'pandas.core.frame.DataFrame'>\n"
          ]
        },
        {
          "data": {
            "text/html": [
              "<div>\n",
              "<style scoped>\n",
              "    .dataframe tbody tr th:only-of-type {\n",
              "        vertical-align: middle;\n",
              "    }\n",
              "\n",
              "    .dataframe tbody tr th {\n",
              "        vertical-align: top;\n",
              "    }\n",
              "\n",
              "    .dataframe thead th {\n",
              "        text-align: right;\n",
              "    }\n",
              "</style>\n",
              "<table border=\"1\" class=\"dataframe\">\n",
              "  <thead>\n",
              "    <tr style=\"text-align: right;\">\n",
              "      <th></th>\n",
              "      <th>date</th>\n",
              "      <th>minute</th>\n",
              "    </tr>\n",
              "  </thead>\n",
              "  <tbody>\n",
              "    <tr>\n",
              "      <th>0</th>\n",
              "      <td>2018-07-28</td>\n",
              "      <td>30</td>\n",
              "    </tr>\n",
              "    <tr>\n",
              "      <th>1</th>\n",
              "      <td>2018-07-29</td>\n",
              "      <td>15</td>\n",
              "    </tr>\n",
              "    <tr>\n",
              "      <th>2</th>\n",
              "      <td>2018-07-31</td>\n",
              "      <td>24</td>\n",
              "    </tr>\n",
              "    <tr>\n",
              "      <th>3</th>\n",
              "      <td>2018-08-02</td>\n",
              "      <td>6</td>\n",
              "    </tr>\n",
              "    <tr>\n",
              "      <th>4</th>\n",
              "      <td>2018-08-10</td>\n",
              "      <td>302</td>\n",
              "    </tr>\n",
              "  </tbody>\n",
              "</table>\n",
              "</div>"
            ],
            "text/plain": [
              "         date  minute\n",
              "0  2018-07-28      30\n",
              "1  2018-07-29      15\n",
              "2  2018-07-31      24\n",
              "3  2018-08-02       6\n",
              "4  2018-08-10     302"
            ]
          },
          "metadata": {},
          "output_type": "display_data"
        }
      ],
      "source": [
        "grouped_by_date = pd.DataFrame(dataset.groupby('date')['minute'].count())\n",
        "min_freq = grouped_by_date.min()\n",
        "max_freq = grouped_by_date.max()\n",
        "grouped_by_date.reset_index(inplace=True)\n",
        "print(type(grouped_by_date))\n",
        "display(grouped_by_date.head())"
      ]
    },
    {
      "cell_type": "code",
      "execution_count": 12,
      "metadata": {
        "id": "i2IvNaCxmvso",
        "trusted": true
      },
      "outputs": [
        {
          "data": {
            "image/png": "[encoded data removed]",
            "text/plain": [
              "<Figure size 500x900 with 1 Axes>"
            ]
          },
          "metadata": {},
          "output_type": "display_data"
        }
      ],
      "source": [
        "grouped_by_date.rename(columns = {\"date\": \"date\",\n",
        "                                  \"minute\":\"frequency\"}, inplace = True)\n",
        "grouped_by_date.head()\n",
        "plt.figure(figsize=(5,9))\n",
        "_ = plt.boxplot(grouped_by_date.frequency)"
      ]
    },
    {
      "cell_type": "markdown",
      "metadata": {
        "id": "cDylWYBdmvso"
      },
      "source": [
        "Let's see how the Inside and Outside temperature varies across time. Let's also create a Inside-Outside flag to be used later for plotting purposes."
      ]
    },
    {
      "cell_type": "code",
      "execution_count": 13,
      "metadata": {
        "id": "8-I1jTG8mvso",
        "trusted": true
      },
      "outputs": [
        {
          "data": {
            "text/html": [
              "<div>\n",
              "<style scoped>\n",
              "    .dataframe tbody tr th:only-of-type {\n",
              "        vertical-align: middle;\n",
              "    }\n",
              "\n",
              "    .dataframe tbody tr th {\n",
              "        vertical-align: top;\n",
              "    }\n",
              "\n",
              "    .dataframe thead th {\n",
              "        text-align: right;\n",
              "    }\n",
              "</style>\n",
              "<table border=\"1\" class=\"dataframe\">\n",
              "  <thead>\n",
              "    <tr style=\"text-align: right;\">\n",
              "      <th></th>\n",
              "      <th>temp</th>\n",
              "      <th>Out_In</th>\n",
              "      <th>date</th>\n",
              "      <th>day</th>\n",
              "      <th>month</th>\n",
              "      <th>year</th>\n",
              "      <th>hour</th>\n",
              "      <th>minute</th>\n",
              "      <th>IO_Flag</th>\n",
              "    </tr>\n",
              "  </thead>\n",
              "  <tbody>\n",
              "    <tr>\n",
              "      <th>0</th>\n",
              "      <td>29</td>\n",
              "      <td>In</td>\n",
              "      <td>2018-12-08</td>\n",
              "      <td>8</td>\n",
              "      <td>12</td>\n",
              "      <td>2018</td>\n",
              "      <td>9</td>\n",
              "      <td>30</td>\n",
              "      <td>1</td>\n",
              "    </tr>\n",
              "    <tr>\n",
              "      <th>2</th>\n",
              "      <td>41</td>\n",
              "      <td>Out</td>\n",
              "      <td>2018-12-08</td>\n",
              "      <td>8</td>\n",
              "      <td>12</td>\n",
              "      <td>2018</td>\n",
              "      <td>9</td>\n",
              "      <td>29</td>\n",
              "      <td>0</td>\n",
              "    </tr>\n",
              "    <tr>\n",
              "      <th>4</th>\n",
              "      <td>31</td>\n",
              "      <td>In</td>\n",
              "      <td>2018-12-08</td>\n",
              "      <td>8</td>\n",
              "      <td>12</td>\n",
              "      <td>2018</td>\n",
              "      <td>9</td>\n",
              "      <td>29</td>\n",
              "      <td>1</td>\n",
              "    </tr>\n",
              "    <tr>\n",
              "      <th>6</th>\n",
              "      <td>29</td>\n",
              "      <td>In</td>\n",
              "      <td>2018-12-08</td>\n",
              "      <td>8</td>\n",
              "      <td>12</td>\n",
              "      <td>2018</td>\n",
              "      <td>9</td>\n",
              "      <td>28</td>\n",
              "      <td>1</td>\n",
              "    </tr>\n",
              "    <tr>\n",
              "      <th>8</th>\n",
              "      <td>29</td>\n",
              "      <td>In</td>\n",
              "      <td>2018-12-08</td>\n",
              "      <td>8</td>\n",
              "      <td>12</td>\n",
              "      <td>2018</td>\n",
              "      <td>9</td>\n",
              "      <td>26</td>\n",
              "      <td>1</td>\n",
              "    </tr>\n",
              "  </tbody>\n",
              "</table>\n",
              "</div>"
            ],
            "text/plain": [
              "   temp Out_In        date  day  month  year  hour  minute  IO_Flag\n",
              "0    29     In  2018-12-08    8     12  2018     9      30        1\n",
              "2    41    Out  2018-12-08    8     12  2018     9      29        0\n",
              "4    31     In  2018-12-08    8     12  2018     9      29        1\n",
              "6    29     In  2018-12-08    8     12  2018     9      28        1\n",
              "8    29     In  2018-12-08    8     12  2018     9      26        1"
            ]
          },
          "execution_count": 13,
          "metadata": {},
          "output_type": "execute_result"
        }
      ],
      "source": [
        "def ioflag(x):\n",
        "    if x=='In':\n",
        "        return 1\n",
        "    else:\n",
        "        return 0\n",
        "dataset['IO_Flag'] = dataset['Out_In'].apply(lambda x: ioflag(x))\n",
        "dataset.head()"
      ]
    },
    {
      "cell_type": "code",
      "execution_count": 14,
      "metadata": {
        "id": "5qtyJMFImvso",
        "trusted": true
      },
      "outputs": [
        {
          "name": "stdout",
          "output_type": "stream",
          "text": [
            "Number of records from dataset for Out :  27326 \n",
            "Number of records from dataset for In :   9942\n",
            "% Distribution for Outside/Inside is 73:28 \n"
          ]
        }
      ],
      "source": [
        "print(\"Number of records from dataset for Out : \", dataset[dataset['Out_In'] == 'Out'].shape[0]\n",
        ",\"\\nNumber of records from dataset for In :  \",dataset[dataset['Out_In'] == 'In'].shape[0])\n",
        "print(\"% Distribution for Outside/Inside is 73:28 \")#, 100*(dataset[dataset['Out_In'] == 'Out'].shape[0]/dataset.shape[0]))"
      ]
    },
    {
      "cell_type": "markdown",
      "metadata": {
        "id": "1IS6M8ORmvso"
      },
      "source": [
        "The sensor has recorded Outside temperatures more than the inside. Let's count the number of Outside and Inside temperatures in a day, see if this is a daily behaviour or some dicrepancy."
      ]
    },
    {
      "cell_type": "code",
      "execution_count": 15,
      "metadata": {
        "id": "rTLBhdemmvso",
        "trusted": true
      },
      "outputs": [
        {
          "data": {
            "text/html": [
              "<div>\n",
              "<style scoped>\n",
              "    .dataframe tbody tr th:only-of-type {\n",
              "        vertical-align: middle;\n",
              "    }\n",
              "\n",
              "    .dataframe tbody tr th {\n",
              "        vertical-align: top;\n",
              "    }\n",
              "\n",
              "    .dataframe thead th {\n",
              "        text-align: right;\n",
              "    }\n",
              "</style>\n",
              "<table border=\"1\" class=\"dataframe\">\n",
              "  <thead>\n",
              "    <tr style=\"text-align: right;\">\n",
              "      <th></th>\n",
              "      <th>date</th>\n",
              "      <th>Out_In</th>\n",
              "      <th>mean_temperature</th>\n",
              "    </tr>\n",
              "  </thead>\n",
              "  <tbody>\n",
              "    <tr>\n",
              "      <th>0</th>\n",
              "      <td>2018-07-28</td>\n",
              "      <td>In</td>\n",
              "      <td>31.000000</td>\n",
              "    </tr>\n",
              "    <tr>\n",
              "      <th>1</th>\n",
              "      <td>2018-07-28</td>\n",
              "      <td>Out</td>\n",
              "      <td>31.695652</td>\n",
              "    </tr>\n",
              "    <tr>\n",
              "      <th>2</th>\n",
              "      <td>2018-07-29</td>\n",
              "      <td>In</td>\n",
              "      <td>32.500000</td>\n",
              "    </tr>\n",
              "    <tr>\n",
              "      <th>3</th>\n",
              "      <td>2018-07-29</td>\n",
              "      <td>Out</td>\n",
              "      <td>31.363636</td>\n",
              "    </tr>\n",
              "    <tr>\n",
              "      <th>4</th>\n",
              "      <td>2018-07-31</td>\n",
              "      <td>In</td>\n",
              "      <td>30.750000</td>\n",
              "    </tr>\n",
              "  </tbody>\n",
              "</table>\n",
              "</div>"
            ],
            "text/plain": [
              "         date Out_In  mean_temperature\n",
              "0  2018-07-28     In         31.000000\n",
              "1  2018-07-28    Out         31.695652\n",
              "2  2018-07-29     In         32.500000\n",
              "3  2018-07-29    Out         31.363636\n",
              "4  2018-07-31     In         30.750000"
            ]
          },
          "execution_count": 15,
          "metadata": {},
          "output_type": "execute_result"
        }
      ],
      "source": [
        "daily_measurement_frequency = pd.DataFrame(dataset.groupby(['date','Out_In'])['temp'].mean())\n",
        "daily_measurement_frequency.reset_index(inplace=True)\n",
        "daily_measurement_frequency.rename(columns={'temp':'mean_temperature'}, inplace = True)\n",
        "daily_measurement_frequency.head()"
      ]
    },
    {
      "cell_type": "code",
      "execution_count": 16,
      "metadata": {
        "id": "EwYEMx9Tmvso",
        "trusted": true
      },
      "outputs": [
        {
          "name": "stdout",
          "output_type": "stream",
          "text": [
            "<class 'pandas.core.frame.DataFrame'>\n"
          ]
        }
      ],
      "source": [
        "print(type(daily_measurement_frequency))"
      ]
    },
    {
      "cell_type": "code",
      "execution_count": 17,
      "metadata": {
        "id": "KKAnH4bHmvso",
        "trusted": true
      },
      "outputs": [
        {
          "data": {
            "text/html": [
              "<div>\n",
              "<style scoped>\n",
              "    .dataframe tbody tr th:only-of-type {\n",
              "        vertical-align: middle;\n",
              "    }\n",
              "\n",
              "    .dataframe tbody tr th {\n",
              "        vertical-align: top;\n",
              "    }\n",
              "\n",
              "    .dataframe thead th {\n",
              "        text-align: right;\n",
              "    }\n",
              "</style>\n",
              "<table border=\"1\" class=\"dataframe\">\n",
              "  <thead>\n",
              "    <tr style=\"text-align: right;\">\n",
              "      <th></th>\n",
              "      <th>date</th>\n",
              "      <th>Out_In</th>\n",
              "      <th>mean_temperature</th>\n",
              "    </tr>\n",
              "  </thead>\n",
              "  <tbody>\n",
              "    <tr>\n",
              "      <th>0</th>\n",
              "      <td>2018-07-28</td>\n",
              "      <td>In</td>\n",
              "      <td>31.000000</td>\n",
              "    </tr>\n",
              "    <tr>\n",
              "      <th>1</th>\n",
              "      <td>2018-07-28</td>\n",
              "      <td>Out</td>\n",
              "      <td>31.695652</td>\n",
              "    </tr>\n",
              "    <tr>\n",
              "      <th>2</th>\n",
              "      <td>2018-07-29</td>\n",
              "      <td>In</td>\n",
              "      <td>32.500000</td>\n",
              "    </tr>\n",
              "    <tr>\n",
              "      <th>3</th>\n",
              "      <td>2018-07-29</td>\n",
              "      <td>Out</td>\n",
              "      <td>31.363636</td>\n",
              "    </tr>\n",
              "    <tr>\n",
              "      <th>4</th>\n",
              "      <td>2018-07-31</td>\n",
              "      <td>In</td>\n",
              "      <td>30.750000</td>\n",
              "    </tr>\n",
              "    <tr>\n",
              "      <th>5</th>\n",
              "      <td>2018-07-31</td>\n",
              "      <td>Out</td>\n",
              "      <td>32.400000</td>\n",
              "    </tr>\n",
              "    <tr>\n",
              "      <th>6</th>\n",
              "      <td>2018-08-02</td>\n",
              "      <td>Out</td>\n",
              "      <td>32.500000</td>\n",
              "    </tr>\n",
              "    <tr>\n",
              "      <th>7</th>\n",
              "      <td>2018-08-10</td>\n",
              "      <td>In</td>\n",
              "      <td>28.606250</td>\n",
              "    </tr>\n",
              "    <tr>\n",
              "      <th>8</th>\n",
              "      <td>2018-08-10</td>\n",
              "      <td>Out</td>\n",
              "      <td>31.211268</td>\n",
              "    </tr>\n",
              "    <tr>\n",
              "      <th>9</th>\n",
              "      <td>2018-08-11</td>\n",
              "      <td>In</td>\n",
              "      <td>32.677419</td>\n",
              "    </tr>\n",
              "    <tr>\n",
              "      <th>10</th>\n",
              "      <td>2018-08-11</td>\n",
              "      <td>Out</td>\n",
              "      <td>33.000000</td>\n",
              "    </tr>\n",
              "    <tr>\n",
              "      <th>11</th>\n",
              "      <td>2018-08-16</td>\n",
              "      <td>In</td>\n",
              "      <td>30.516129</td>\n",
              "    </tr>\n",
              "    <tr>\n",
              "      <th>12</th>\n",
              "      <td>2018-08-16</td>\n",
              "      <td>Out</td>\n",
              "      <td>32.000000</td>\n",
              "    </tr>\n",
              "    <tr>\n",
              "      <th>13</th>\n",
              "      <td>2018-08-18</td>\n",
              "      <td>In</td>\n",
              "      <td>32.500000</td>\n",
              "    </tr>\n",
              "    <tr>\n",
              "      <th>14</th>\n",
              "      <td>2018-08-18</td>\n",
              "      <td>Out</td>\n",
              "      <td>30.716418</td>\n",
              "    </tr>\n",
              "    <tr>\n",
              "      <th>15</th>\n",
              "      <td>2018-08-19</td>\n",
              "      <td>In</td>\n",
              "      <td>32.333333</td>\n",
              "    </tr>\n",
              "    <tr>\n",
              "      <th>16</th>\n",
              "      <td>2018-08-19</td>\n",
              "      <td>Out</td>\n",
              "      <td>30.361111</td>\n",
              "    </tr>\n",
              "    <tr>\n",
              "      <th>17</th>\n",
              "      <td>2018-08-25</td>\n",
              "      <td>In</td>\n",
              "      <td>31.361702</td>\n",
              "    </tr>\n",
              "    <tr>\n",
              "      <th>18</th>\n",
              "      <td>2018-08-25</td>\n",
              "      <td>Out</td>\n",
              "      <td>30.806452</td>\n",
              "    </tr>\n",
              "    <tr>\n",
              "      <th>19</th>\n",
              "      <td>2018-08-26</td>\n",
              "      <td>In</td>\n",
              "      <td>31.454545</td>\n",
              "    </tr>\n",
              "  </tbody>\n",
              "</table>\n",
              "</div>"
            ],
            "text/plain": [
              "          date Out_In  mean_temperature\n",
              "0   2018-07-28     In         31.000000\n",
              "1   2018-07-28    Out         31.695652\n",
              "2   2018-07-29     In         32.500000\n",
              "3   2018-07-29    Out         31.363636\n",
              "4   2018-07-31     In         30.750000\n",
              "5   2018-07-31    Out         32.400000\n",
              "6   2018-08-02    Out         32.500000\n",
              "7   2018-08-10     In         28.606250\n",
              "8   2018-08-10    Out         31.211268\n",
              "9   2018-08-11     In         32.677419\n",
              "10  2018-08-11    Out         33.000000\n",
              "11  2018-08-16     In         30.516129\n",
              "12  2018-08-16    Out         32.000000\n",
              "13  2018-08-18     In         32.500000\n",
              "14  2018-08-18    Out         30.716418\n",
              "15  2018-08-19     In         32.333333\n",
              "16  2018-08-19    Out         30.361111\n",
              "17  2018-08-25     In         31.361702\n",
              "18  2018-08-25    Out         30.806452\n",
              "19  2018-08-26     In         31.454545"
            ]
          },
          "execution_count": 17,
          "metadata": {},
          "output_type": "execute_result"
        }
      ],
      "source": [
        "daily_measurement_frequency[daily_measurement_frequency['mean_temperature'] <= 1000 ].head(20)"
      ]
    },
    {
      "cell_type": "markdown",
      "metadata": {
        "id": "Jm0pQ6R2mvso"
      },
      "source": [
        "### Mean Temperature\n",
        "Let's plot daily mean temperature basis Inside and Outside"
      ]
    },
    {
      "cell_type": "code",
      "execution_count": null,
      "metadata": {},
      "outputs": [],
      "source": []
    },
    {
      "cell_type": "code",
      "execution_count": 18,
      "metadata": {
        "id": "uzzzV_7smvso",
        "trusted": true
      },
      "outputs": [
        {
          "data": {
            "image/png": "[encoded data removed]",
            "text/plain": [
              "<Figure size 1500x600 with 1 Axes>"
            ]
          },
          "metadata": {},
          "output_type": "display_data"
        }
      ],
      "source": [
        "colors = {'In':'red', 'Out':'blue'}\n",
        "plt.figure(figsize=(15,6))\n",
        "plt.xticks(rotation=70)\n",
        "plt.scatter(daily_measurement_frequency['date'],\n",
        "        daily_measurement_frequency['mean_temperature'],\n",
        "        c=daily_measurement_frequency['Out_In'].apply(lambda x : colors[x]))\n",
        "plt.show()"
      ]
    },
    {
      "cell_type": "code",
      "execution_count": 19,
      "metadata": {
        "id": "fCVsa3_Cmvso",
        "trusted": true
      },
      "outputs": [
        {
          "data": {
            "text/html": [
              "<div>\n",
              "<style scoped>\n",
              "    .dataframe tbody tr th:only-of-type {\n",
              "        vertical-align: middle;\n",
              "    }\n",
              "\n",
              "    .dataframe tbody tr th {\n",
              "        vertical-align: top;\n",
              "    }\n",
              "\n",
              "    .dataframe thead th {\n",
              "        text-align: right;\n",
              "    }\n",
              "</style>\n",
              "<table border=\"1\" class=\"dataframe\">\n",
              "  <thead>\n",
              "    <tr style=\"text-align: right;\">\n",
              "      <th></th>\n",
              "      <th>date</th>\n",
              "      <th>Measurements</th>\n",
              "    </tr>\n",
              "  </thead>\n",
              "  <tbody>\n",
              "    <tr>\n",
              "      <th>0</th>\n",
              "      <td>2018-07-28</td>\n",
              "      <td>2</td>\n",
              "    </tr>\n",
              "    <tr>\n",
              "      <th>1</th>\n",
              "      <td>2018-07-29</td>\n",
              "      <td>2</td>\n",
              "    </tr>\n",
              "    <tr>\n",
              "      <th>2</th>\n",
              "      <td>2018-07-31</td>\n",
              "      <td>2</td>\n",
              "    </tr>\n",
              "    <tr>\n",
              "      <th>3</th>\n",
              "      <td>2018-08-02</td>\n",
              "      <td>1</td>\n",
              "    </tr>\n",
              "    <tr>\n",
              "      <th>4</th>\n",
              "      <td>2018-08-10</td>\n",
              "      <td>2</td>\n",
              "    </tr>\n",
              "  </tbody>\n",
              "</table>\n",
              "</div>"
            ],
            "text/plain": [
              "         date  Measurements\n",
              "0  2018-07-28             2\n",
              "1  2018-07-29             2\n",
              "2  2018-07-31             2\n",
              "3  2018-08-02             1\n",
              "4  2018-08-10             2"
            ]
          },
          "execution_count": 19,
          "metadata": {},
          "output_type": "execute_result"
        }
      ],
      "source": [
        "daily_measurement_variety = pd.DataFrame(dataset[['date','Out_In']].groupby(['date'])['Out_In'].nunique())\n",
        "daily_measurement_variety.reset_index(inplace=True)\n",
        "daily_measurement_variety.rename(columns = {'Out_In':'Measurements'}, inplace=True)\n",
        "daily_measurement_variety.head()"
      ]
    },
    {
      "cell_type": "code",
      "execution_count": 20,
      "metadata": {
        "id": "H9vDY0-Omvso",
        "trusted": true
      },
      "outputs": [
        {
          "data": {
            "text/plain": [
              "<matplotlib.collections.PathCollection at 0x276a9ae8550>"
            ]
          },
          "execution_count": 20,
          "metadata": {},
          "output_type": "execute_result"
        },
        {
          "data": {
            "image/png": "[encoded data removed]",
            "text/plain": [
              "<Figure size 1500x600 with 1 Axes>"
            ]
          },
          "metadata": {},
          "output_type": "display_data"
        }
      ],
      "source": [
        "plt.figure(figsize=(15,6))\n",
        "plt.xticks( rotation=70)\n",
        "plt.yticks(np.arange(0,5,1.0))\n",
        "plt.scatter(daily_measurement_variety['date'],daily_measurement_variety['Measurements'] )"
      ]
    },
    {
      "cell_type": "code",
      "execution_count": 21,
      "metadata": {
        "id": "Obr0ifuwmvso",
        "trusted": true
      },
      "outputs": [
        {
          "name": "stdout",
          "output_type": "stream",
          "text": [
            "Measurements\n",
            "2    72\n",
            "1    14\n",
            "Name: count, dtype: int64\n"
          ]
        }
      ],
      "source": [
        "print(daily_measurement_variety['Measurements'].value_counts())"
      ]
    },
    {
      "cell_type": "code",
      "execution_count": 22,
      "metadata": {
        "id": "AkgiJfLrmvso",
        "trusted": true
      },
      "outputs": [
        {
          "data": {
            "text/plain": [
              "86"
            ]
          },
          "execution_count": 22,
          "metadata": {},
          "output_type": "execute_result"
        }
      ],
      "source": [
        "dataset.date.nunique()"
      ]
    },
    {
      "cell_type": "code",
      "execution_count": 23,
      "metadata": {
        "id": "ktfXDJV3mvso",
        "trusted": true
      },
      "outputs": [],
      "source": [
        "dataset = dataset.merge(daily_measurement_variety, left_on='date', right_on='date')"
      ]
    },
    {
      "cell_type": "code",
      "execution_count": 24,
      "metadata": {
        "id": "iryhxBXemvsp",
        "trusted": true
      },
      "outputs": [
        {
          "data": {
            "text/html": [
              "<div>\n",
              "<style scoped>\n",
              "    .dataframe tbody tr th:only-of-type {\n",
              "        vertical-align: middle;\n",
              "    }\n",
              "\n",
              "    .dataframe tbody tr th {\n",
              "        vertical-align: top;\n",
              "    }\n",
              "\n",
              "    .dataframe thead th {\n",
              "        text-align: right;\n",
              "    }\n",
              "</style>\n",
              "<table border=\"1\" class=\"dataframe\">\n",
              "  <thead>\n",
              "    <tr style=\"text-align: right;\">\n",
              "      <th></th>\n",
              "      <th>temp</th>\n",
              "      <th>Out_In</th>\n",
              "      <th>date</th>\n",
              "      <th>day</th>\n",
              "      <th>month</th>\n",
              "      <th>year</th>\n",
              "      <th>hour</th>\n",
              "      <th>minute</th>\n",
              "      <th>IO_Flag</th>\n",
              "      <th>Measurements</th>\n",
              "    </tr>\n",
              "  </thead>\n",
              "  <tbody>\n",
              "    <tr>\n",
              "      <th>0</th>\n",
              "      <td>29</td>\n",
              "      <td>In</td>\n",
              "      <td>2018-12-08</td>\n",
              "      <td>8</td>\n",
              "      <td>12</td>\n",
              "      <td>2018</td>\n",
              "      <td>9</td>\n",
              "      <td>30</td>\n",
              "      <td>1</td>\n",
              "      <td>2</td>\n",
              "    </tr>\n",
              "    <tr>\n",
              "      <th>1</th>\n",
              "      <td>41</td>\n",
              "      <td>Out</td>\n",
              "      <td>2018-12-08</td>\n",
              "      <td>8</td>\n",
              "      <td>12</td>\n",
              "      <td>2018</td>\n",
              "      <td>9</td>\n",
              "      <td>29</td>\n",
              "      <td>0</td>\n",
              "      <td>2</td>\n",
              "    </tr>\n",
              "    <tr>\n",
              "      <th>2</th>\n",
              "      <td>31</td>\n",
              "      <td>In</td>\n",
              "      <td>2018-12-08</td>\n",
              "      <td>8</td>\n",
              "      <td>12</td>\n",
              "      <td>2018</td>\n",
              "      <td>9</td>\n",
              "      <td>29</td>\n",
              "      <td>1</td>\n",
              "      <td>2</td>\n",
              "    </tr>\n",
              "    <tr>\n",
              "      <th>3</th>\n",
              "      <td>29</td>\n",
              "      <td>In</td>\n",
              "      <td>2018-12-08</td>\n",
              "      <td>8</td>\n",
              "      <td>12</td>\n",
              "      <td>2018</td>\n",
              "      <td>9</td>\n",
              "      <td>28</td>\n",
              "      <td>1</td>\n",
              "      <td>2</td>\n",
              "    </tr>\n",
              "    <tr>\n",
              "      <th>4</th>\n",
              "      <td>29</td>\n",
              "      <td>In</td>\n",
              "      <td>2018-12-08</td>\n",
              "      <td>8</td>\n",
              "      <td>12</td>\n",
              "      <td>2018</td>\n",
              "      <td>9</td>\n",
              "      <td>26</td>\n",
              "      <td>1</td>\n",
              "      <td>2</td>\n",
              "    </tr>\n",
              "  </tbody>\n",
              "</table>\n",
              "</div>"
            ],
            "text/plain": [
              "   temp Out_In        date  day  month  year  hour  minute  IO_Flag  \\\n",
              "0    29     In  2018-12-08    8     12  2018     9      30        1   \n",
              "1    41    Out  2018-12-08    8     12  2018     9      29        0   \n",
              "2    31     In  2018-12-08    8     12  2018     9      29        1   \n",
              "3    29     In  2018-12-08    8     12  2018     9      28        1   \n",
              "4    29     In  2018-12-08    8     12  2018     9      26        1   \n",
              "\n",
              "   Measurements  \n",
              "0             2  \n",
              "1             2  \n",
              "2             2  \n",
              "3             2  \n",
              "4             2  "
            ]
          },
          "execution_count": 24,
          "metadata": {},
          "output_type": "execute_result"
        }
      ],
      "source": [
        "dataset.head()"
      ]
    },
    {
      "cell_type": "code",
      "execution_count": 25,
      "metadata": {
        "id": "Me1ZF9Jrmvsp",
        "trusted": true
      },
      "outputs": [
        {
          "data": {
            "text/html": [
              "<div>\n",
              "<style scoped>\n",
              "    .dataframe tbody tr th:only-of-type {\n",
              "        vertical-align: middle;\n",
              "    }\n",
              "\n",
              "    .dataframe tbody tr th {\n",
              "        vertical-align: top;\n",
              "    }\n",
              "\n",
              "    .dataframe thead th {\n",
              "        text-align: right;\n",
              "    }\n",
              "</style>\n",
              "<table border=\"1\" class=\"dataframe\">\n",
              "  <thead>\n",
              "    <tr style=\"text-align: right;\">\n",
              "      <th></th>\n",
              "      <th></th>\n",
              "      <th>temp</th>\n",
              "      <th>date</th>\n",
              "      <th>day</th>\n",
              "      <th>month</th>\n",
              "      <th>year</th>\n",
              "      <th>hour</th>\n",
              "      <th>minute</th>\n",
              "      <th>IO_Flag</th>\n",
              "    </tr>\n",
              "    <tr>\n",
              "      <th>Measurements</th>\n",
              "      <th>Out_In</th>\n",
              "      <th></th>\n",
              "      <th></th>\n",
              "      <th></th>\n",
              "      <th></th>\n",
              "      <th></th>\n",
              "      <th></th>\n",
              "      <th></th>\n",
              "      <th></th>\n",
              "    </tr>\n",
              "  </thead>\n",
              "  <tbody>\n",
              "    <tr>\n",
              "      <th rowspan=\"2\" valign=\"top\">1</th>\n",
              "      <th>In</th>\n",
              "      <td>302</td>\n",
              "      <td>302</td>\n",
              "      <td>302</td>\n",
              "      <td>302</td>\n",
              "      <td>302</td>\n",
              "      <td>302</td>\n",
              "      <td>302</td>\n",
              "      <td>302</td>\n",
              "    </tr>\n",
              "    <tr>\n",
              "      <th>Out</th>\n",
              "      <td>3846</td>\n",
              "      <td>3846</td>\n",
              "      <td>3846</td>\n",
              "      <td>3846</td>\n",
              "      <td>3846</td>\n",
              "      <td>3846</td>\n",
              "      <td>3846</td>\n",
              "      <td>3846</td>\n",
              "    </tr>\n",
              "    <tr>\n",
              "      <th rowspan=\"2\" valign=\"top\">2</th>\n",
              "      <th>In</th>\n",
              "      <td>9640</td>\n",
              "      <td>9640</td>\n",
              "      <td>9640</td>\n",
              "      <td>9640</td>\n",
              "      <td>9640</td>\n",
              "      <td>9640</td>\n",
              "      <td>9640</td>\n",
              "      <td>9640</td>\n",
              "    </tr>\n",
              "    <tr>\n",
              "      <th>Out</th>\n",
              "      <td>23480</td>\n",
              "      <td>23480</td>\n",
              "      <td>23480</td>\n",
              "      <td>23480</td>\n",
              "      <td>23480</td>\n",
              "      <td>23480</td>\n",
              "      <td>23480</td>\n",
              "      <td>23480</td>\n",
              "    </tr>\n",
              "  </tbody>\n",
              "</table>\n",
              "</div>"
            ],
            "text/plain": [
              "                      temp   date    day  month   year   hour  minute  IO_Flag\n",
              "Measurements Out_In                                                           \n",
              "1            In        302    302    302    302    302    302     302      302\n",
              "             Out      3846   3846   3846   3846   3846   3846    3846     3846\n",
              "2            In       9640   9640   9640   9640   9640   9640    9640     9640\n",
              "             Out     23480  23480  23480  23480  23480  23480   23480    23480"
            ]
          },
          "execution_count": 25,
          "metadata": {},
          "output_type": "execute_result"
        }
      ],
      "source": [
        "dataset.groupby(['Measurements','Out_In']).count()"
      ]
    },
    {
      "cell_type": "code",
      "execution_count": 26,
      "metadata": {
        "id": "2TpOh6oKmvsp",
        "trusted": true
      },
      "outputs": [
        {
          "data": {
            "text/plain": [
              "Measurements  Out_In\n",
              "1             In         2\n",
              "              Out       12\n",
              "2             In        72\n",
              "              Out       72\n",
              "Name: date, dtype: int64"
            ]
          },
          "execution_count": 26,
          "metadata": {},
          "output_type": "execute_result"
        }
      ],
      "source": [
        "dataset.groupby(['Measurements','Out_In'])['date'].nunique()"
      ]
    },
    {
      "cell_type": "code",
      "execution_count": 27,
      "metadata": {
        "id": "tWm2HRNGmvsp",
        "trusted": true
      },
      "outputs": [
        {
          "data": {
            "text/plain": [
              "(37268, 10)"
            ]
          },
          "execution_count": 27,
          "metadata": {},
          "output_type": "execute_result"
        }
      ],
      "source": [
        "dataset.shape"
      ]
    },
    {
      "cell_type": "code",
      "execution_count": 28,
      "metadata": {
        "id": "lPUVFQ-Smvsp",
        "trusted": true
      },
      "outputs": [
        {
          "data": {
            "text/html": [
              "<div>\n",
              "<style scoped>\n",
              "    .dataframe tbody tr th:only-of-type {\n",
              "        vertical-align: middle;\n",
              "    }\n",
              "\n",
              "    .dataframe tbody tr th {\n",
              "        vertical-align: top;\n",
              "    }\n",
              "\n",
              "    .dataframe thead th {\n",
              "        text-align: right;\n",
              "    }\n",
              "</style>\n",
              "<table border=\"1\" class=\"dataframe\">\n",
              "  <thead>\n",
              "    <tr style=\"text-align: right;\">\n",
              "      <th></th>\n",
              "      <th>month</th>\n",
              "      <th>temp</th>\n",
              "    </tr>\n",
              "  </thead>\n",
              "  <tbody>\n",
              "    <tr>\n",
              "      <th>0</th>\n",
              "      <td>7</td>\n",
              "      <td>31.768116</td>\n",
              "    </tr>\n",
              "    <tr>\n",
              "      <th>1</th>\n",
              "      <td>8</td>\n",
              "      <td>30.732843</td>\n",
              "    </tr>\n",
              "    <tr>\n",
              "      <th>2</th>\n",
              "      <td>9</td>\n",
              "      <td>33.588698</td>\n",
              "    </tr>\n",
              "    <tr>\n",
              "      <th>3</th>\n",
              "      <td>10</td>\n",
              "      <td>39.435035</td>\n",
              "    </tr>\n",
              "    <tr>\n",
              "      <th>4</th>\n",
              "      <td>11</td>\n",
              "      <td>39.151133</td>\n",
              "    </tr>\n",
              "  </tbody>\n",
              "</table>\n",
              "</div>"
            ],
            "text/plain": [
              "   month       temp\n",
              "0      7  31.768116\n",
              "1      8  30.732843\n",
              "2      9  33.588698\n",
              "3     10  39.435035\n",
              "4     11  39.151133"
            ]
          },
          "execution_count": 28,
          "metadata": {},
          "output_type": "execute_result"
        }
      ],
      "source": [
        "monthly_split = pd.DataFrame(dataset.groupby(['month'])['temp'].mean())\n",
        "monthly_split.reset_index(inplace=True)\n",
        "monthly_split.rename(columns={'temp':'mean_temp'})\n",
        "monthly_split.head()"
      ]
    },
    {
      "cell_type": "code",
      "execution_count": 29,
      "metadata": {
        "id": "MT6zOb0Dmvsp",
        "trusted": true
      },
      "outputs": [
        {
          "data": {
            "text/html": [
              "<div>\n",
              "<style scoped>\n",
              "    .dataframe tbody tr th:only-of-type {\n",
              "        vertical-align: middle;\n",
              "    }\n",
              "\n",
              "    .dataframe tbody tr th {\n",
              "        vertical-align: top;\n",
              "    }\n",
              "\n",
              "    .dataframe thead th {\n",
              "        text-align: right;\n",
              "    }\n",
              "</style>\n",
              "<table border=\"1\" class=\"dataframe\">\n",
              "  <thead>\n",
              "    <tr style=\"text-align: right;\">\n",
              "      <th></th>\n",
              "      <th>month</th>\n",
              "      <th>temp</th>\n",
              "    </tr>\n",
              "  </thead>\n",
              "  <tbody>\n",
              "    <tr>\n",
              "      <th>3</th>\n",
              "      <td>10</td>\n",
              "      <td>39.435035</td>\n",
              "    </tr>\n",
              "    <tr>\n",
              "      <th>4</th>\n",
              "      <td>11</td>\n",
              "      <td>39.151133</td>\n",
              "    </tr>\n",
              "    <tr>\n",
              "      <th>5</th>\n",
              "      <td>12</td>\n",
              "      <td>34.435781</td>\n",
              "    </tr>\n",
              "    <tr>\n",
              "      <th>2</th>\n",
              "      <td>9</td>\n",
              "      <td>33.588698</td>\n",
              "    </tr>\n",
              "    <tr>\n",
              "      <th>0</th>\n",
              "      <td>7</td>\n",
              "      <td>31.768116</td>\n",
              "    </tr>\n",
              "    <tr>\n",
              "      <th>1</th>\n",
              "      <td>8</td>\n",
              "      <td>30.732843</td>\n",
              "    </tr>\n",
              "  </tbody>\n",
              "</table>\n",
              "</div>"
            ],
            "text/plain": [
              "   month       temp\n",
              "3     10  39.435035\n",
              "4     11  39.151133\n",
              "5     12  34.435781\n",
              "2      9  33.588698\n",
              "0      7  31.768116\n",
              "1      8  30.732843"
            ]
          },
          "metadata": {},
          "output_type": "display_data"
        },
        {
          "data": {
            "text/html": [
              "<div>\n",
              "<style scoped>\n",
              "    .dataframe tbody tr th:only-of-type {\n",
              "        vertical-align: middle;\n",
              "    }\n",
              "\n",
              "    .dataframe tbody tr th {\n",
              "        vertical-align: top;\n",
              "    }\n",
              "\n",
              "    .dataframe thead th {\n",
              "        text-align: right;\n",
              "    }\n",
              "</style>\n",
              "<table border=\"1\" class=\"dataframe\">\n",
              "  <thead>\n",
              "    <tr style=\"text-align: right;\">\n",
              "      <th></th>\n",
              "      <th>month</th>\n",
              "      <th>temp</th>\n",
              "    </tr>\n",
              "  </thead>\n",
              "  <tbody>\n",
              "    <tr>\n",
              "      <th>1</th>\n",
              "      <td>8</td>\n",
              "      <td>30.732843</td>\n",
              "    </tr>\n",
              "    <tr>\n",
              "      <th>0</th>\n",
              "      <td>7</td>\n",
              "      <td>31.768116</td>\n",
              "    </tr>\n",
              "    <tr>\n",
              "      <th>2</th>\n",
              "      <td>9</td>\n",
              "      <td>33.588698</td>\n",
              "    </tr>\n",
              "    <tr>\n",
              "      <th>5</th>\n",
              "      <td>12</td>\n",
              "      <td>34.435781</td>\n",
              "    </tr>\n",
              "    <tr>\n",
              "      <th>4</th>\n",
              "      <td>11</td>\n",
              "      <td>39.151133</td>\n",
              "    </tr>\n",
              "    <tr>\n",
              "      <th>3</th>\n",
              "      <td>10</td>\n",
              "      <td>39.435035</td>\n",
              "    </tr>\n",
              "  </tbody>\n",
              "</table>\n",
              "</div>"
            ],
            "text/plain": [
              "   month       temp\n",
              "1      8  30.732843\n",
              "0      7  31.768116\n",
              "2      9  33.588698\n",
              "5     12  34.435781\n",
              "4     11  39.151133\n",
              "3     10  39.435035"
            ]
          },
          "metadata": {},
          "output_type": "display_data"
        }
      ],
      "source": [
        "display(monthly_split.sort_values(by=['temp'], ascending=False))\n",
        "display(monthly_split.sort_values(by=['temp'], ascending=True))\n"
      ]
    },
    {
      "cell_type": "code",
      "execution_count": 30,
      "metadata": {
        "id": "8hbMnx0hmvsp",
        "trusted": true
      },
      "outputs": [
        {
          "data": {
            "text/html": [
              "<div>\n",
              "<style scoped>\n",
              "    .dataframe tbody tr th:only-of-type {\n",
              "        vertical-align: middle;\n",
              "    }\n",
              "\n",
              "    .dataframe tbody tr th {\n",
              "        vertical-align: top;\n",
              "    }\n",
              "\n",
              "    .dataframe thead th {\n",
              "        text-align: right;\n",
              "    }\n",
              "</style>\n",
              "<table border=\"1\" class=\"dataframe\">\n",
              "  <thead>\n",
              "    <tr style=\"text-align: right;\">\n",
              "      <th></th>\n",
              "      <th>month</th>\n",
              "      <th>Out_In</th>\n",
              "      <th>temp</th>\n",
              "    </tr>\n",
              "  </thead>\n",
              "  <tbody>\n",
              "    <tr>\n",
              "      <th>0</th>\n",
              "      <td>7</td>\n",
              "      <td>In</td>\n",
              "      <td>31.333333</td>\n",
              "    </tr>\n",
              "    <tr>\n",
              "      <th>1</th>\n",
              "      <td>7</td>\n",
              "      <td>Out</td>\n",
              "      <td>31.888889</td>\n",
              "    </tr>\n",
              "    <tr>\n",
              "      <th>2</th>\n",
              "      <td>8</td>\n",
              "      <td>In</td>\n",
              "      <td>30.088235</td>\n",
              "    </tr>\n",
              "    <tr>\n",
              "      <th>3</th>\n",
              "      <td>8</td>\n",
              "      <td>Out</td>\n",
              "      <td>31.193277</td>\n",
              "    </tr>\n",
              "    <tr>\n",
              "      <th>4</th>\n",
              "      <td>9</td>\n",
              "      <td>In</td>\n",
              "      <td>30.761445</td>\n",
              "    </tr>\n",
              "  </tbody>\n",
              "</table>\n",
              "</div>"
            ],
            "text/plain": [
              "   month Out_In       temp\n",
              "0      7     In  31.333333\n",
              "1      7    Out  31.888889\n",
              "2      8     In  30.088235\n",
              "3      8    Out  31.193277\n",
              "4      9     In  30.761445"
            ]
          },
          "execution_count": 30,
          "metadata": {},
          "output_type": "execute_result"
        }
      ],
      "source": [
        "monthly_type_split = pd.DataFrame(dataset.groupby(['month','Out_In',])['temp'].mean())\n",
        "monthly_type_split.reset_index(inplace=True)\n",
        "monthly_type_split.rename(columns={'temp':'mean_temp'})\n",
        "monthly_type_split.head()"
      ]
    },
    {
      "cell_type": "code",
      "execution_count": 31,
      "metadata": {
        "id": "CGptQPj0mvsp",
        "trusted": true
      },
      "outputs": [
        {
          "data": {
            "text/html": [
              "<div>\n",
              "<style scoped>\n",
              "    .dataframe tbody tr th:only-of-type {\n",
              "        vertical-align: middle;\n",
              "    }\n",
              "\n",
              "    .dataframe tbody tr th {\n",
              "        vertical-align: top;\n",
              "    }\n",
              "\n",
              "    .dataframe thead th {\n",
              "        text-align: right;\n",
              "    }\n",
              "</style>\n",
              "<table border=\"1\" class=\"dataframe\">\n",
              "  <thead>\n",
              "    <tr style=\"text-align: right;\">\n",
              "      <th></th>\n",
              "      <th>month</th>\n",
              "      <th>Out_In</th>\n",
              "      <th>temp</th>\n",
              "    </tr>\n",
              "  </thead>\n",
              "  <tbody>\n",
              "    <tr>\n",
              "      <th>10</th>\n",
              "      <td>12</td>\n",
              "      <td>In</td>\n",
              "      <td>28.462664</td>\n",
              "    </tr>\n",
              "    <tr>\n",
              "      <th>2</th>\n",
              "      <td>8</td>\n",
              "      <td>In</td>\n",
              "      <td>30.088235</td>\n",
              "    </tr>\n",
              "    <tr>\n",
              "      <th>8</th>\n",
              "      <td>11</td>\n",
              "      <td>In</td>\n",
              "      <td>30.606574</td>\n",
              "    </tr>\n",
              "    <tr>\n",
              "      <th>4</th>\n",
              "      <td>9</td>\n",
              "      <td>In</td>\n",
              "      <td>30.761445</td>\n",
              "    </tr>\n",
              "    <tr>\n",
              "      <th>0</th>\n",
              "      <td>7</td>\n",
              "      <td>In</td>\n",
              "      <td>31.333333</td>\n",
              "    </tr>\n",
              "    <tr>\n",
              "      <th>6</th>\n",
              "      <td>10</td>\n",
              "      <td>In</td>\n",
              "      <td>31.560298</td>\n",
              "    </tr>\n",
              "  </tbody>\n",
              "</table>\n",
              "</div>"
            ],
            "text/plain": [
              "    month Out_In       temp\n",
              "10     12     In  28.462664\n",
              "2       8     In  30.088235\n",
              "8      11     In  30.606574\n",
              "4       9     In  30.761445\n",
              "0       7     In  31.333333\n",
              "6      10     In  31.560298"
            ]
          },
          "metadata": {},
          "output_type": "display_data"
        },
        {
          "data": {
            "text/html": [
              "<div>\n",
              "<style scoped>\n",
              "    .dataframe tbody tr th:only-of-type {\n",
              "        vertical-align: middle;\n",
              "    }\n",
              "\n",
              "    .dataframe tbody tr th {\n",
              "        vertical-align: top;\n",
              "    }\n",
              "\n",
              "    .dataframe thead th {\n",
              "        text-align: right;\n",
              "    }\n",
              "</style>\n",
              "<table border=\"1\" class=\"dataframe\">\n",
              "  <thead>\n",
              "    <tr style=\"text-align: right;\">\n",
              "      <th></th>\n",
              "      <th>month</th>\n",
              "      <th>Out_In</th>\n",
              "      <th>temp</th>\n",
              "    </tr>\n",
              "  </thead>\n",
              "  <tbody>\n",
              "    <tr>\n",
              "      <th>3</th>\n",
              "      <td>8</td>\n",
              "      <td>Out</td>\n",
              "      <td>31.193277</td>\n",
              "    </tr>\n",
              "    <tr>\n",
              "      <th>1</th>\n",
              "      <td>7</td>\n",
              "      <td>Out</td>\n",
              "      <td>31.888889</td>\n",
              "    </tr>\n",
              "    <tr>\n",
              "      <th>5</th>\n",
              "      <td>9</td>\n",
              "      <td>Out</td>\n",
              "      <td>34.964339</td>\n",
              "    </tr>\n",
              "    <tr>\n",
              "      <th>11</th>\n",
              "      <td>12</td>\n",
              "      <td>Out</td>\n",
              "      <td>37.348348</td>\n",
              "    </tr>\n",
              "    <tr>\n",
              "      <th>9</th>\n",
              "      <td>11</td>\n",
              "      <td>Out</td>\n",
              "      <td>40.498508</td>\n",
              "    </tr>\n",
              "    <tr>\n",
              "      <th>7</th>\n",
              "      <td>10</td>\n",
              "      <td>Out</td>\n",
              "      <td>41.885607</td>\n",
              "    </tr>\n",
              "  </tbody>\n",
              "</table>\n",
              "</div>"
            ],
            "text/plain": [
              "    month Out_In       temp\n",
              "3       8    Out  31.193277\n",
              "1       7    Out  31.888889\n",
              "5       9    Out  34.964339\n",
              "11     12    Out  37.348348\n",
              "9      11    Out  40.498508\n",
              "7      10    Out  41.885607"
            ]
          },
          "metadata": {},
          "output_type": "display_data"
        },
        {
          "data": {
            "text/html": [
              "<div>\n",
              "<style scoped>\n",
              "    .dataframe tbody tr th:only-of-type {\n",
              "        vertical-align: middle;\n",
              "    }\n",
              "\n",
              "    .dataframe tbody tr th {\n",
              "        vertical-align: top;\n",
              "    }\n",
              "\n",
              "    .dataframe thead th {\n",
              "        text-align: right;\n",
              "    }\n",
              "</style>\n",
              "<table border=\"1\" class=\"dataframe\">\n",
              "  <thead>\n",
              "    <tr style=\"text-align: right;\">\n",
              "      <th></th>\n",
              "      <th>month</th>\n",
              "      <th>Out_In</th>\n",
              "      <th>temp</th>\n",
              "    </tr>\n",
              "  </thead>\n",
              "  <tbody>\n",
              "    <tr>\n",
              "      <th>6</th>\n",
              "      <td>10</td>\n",
              "      <td>In</td>\n",
              "      <td>31.560298</td>\n",
              "    </tr>\n",
              "    <tr>\n",
              "      <th>0</th>\n",
              "      <td>7</td>\n",
              "      <td>In</td>\n",
              "      <td>31.333333</td>\n",
              "    </tr>\n",
              "    <tr>\n",
              "      <th>4</th>\n",
              "      <td>9</td>\n",
              "      <td>In</td>\n",
              "      <td>30.761445</td>\n",
              "    </tr>\n",
              "    <tr>\n",
              "      <th>8</th>\n",
              "      <td>11</td>\n",
              "      <td>In</td>\n",
              "      <td>30.606574</td>\n",
              "    </tr>\n",
              "    <tr>\n",
              "      <th>2</th>\n",
              "      <td>8</td>\n",
              "      <td>In</td>\n",
              "      <td>30.088235</td>\n",
              "    </tr>\n",
              "    <tr>\n",
              "      <th>10</th>\n",
              "      <td>12</td>\n",
              "      <td>In</td>\n",
              "      <td>28.462664</td>\n",
              "    </tr>\n",
              "  </tbody>\n",
              "</table>\n",
              "</div>"
            ],
            "text/plain": [
              "    month Out_In       temp\n",
              "6      10     In  31.560298\n",
              "0       7     In  31.333333\n",
              "4       9     In  30.761445\n",
              "8      11     In  30.606574\n",
              "2       8     In  30.088235\n",
              "10     12     In  28.462664"
            ]
          },
          "metadata": {},
          "output_type": "display_data"
        },
        {
          "data": {
            "text/html": [
              "<div>\n",
              "<style scoped>\n",
              "    .dataframe tbody tr th:only-of-type {\n",
              "        vertical-align: middle;\n",
              "    }\n",
              "\n",
              "    .dataframe tbody tr th {\n",
              "        vertical-align: top;\n",
              "    }\n",
              "\n",
              "    .dataframe thead th {\n",
              "        text-align: right;\n",
              "    }\n",
              "</style>\n",
              "<table border=\"1\" class=\"dataframe\">\n",
              "  <thead>\n",
              "    <tr style=\"text-align: right;\">\n",
              "      <th></th>\n",
              "      <th>month</th>\n",
              "      <th>Out_In</th>\n",
              "      <th>temp</th>\n",
              "    </tr>\n",
              "  </thead>\n",
              "  <tbody>\n",
              "    <tr>\n",
              "      <th>7</th>\n",
              "      <td>10</td>\n",
              "      <td>Out</td>\n",
              "      <td>41.885607</td>\n",
              "    </tr>\n",
              "    <tr>\n",
              "      <th>9</th>\n",
              "      <td>11</td>\n",
              "      <td>Out</td>\n",
              "      <td>40.498508</td>\n",
              "    </tr>\n",
              "    <tr>\n",
              "      <th>11</th>\n",
              "      <td>12</td>\n",
              "      <td>Out</td>\n",
              "      <td>37.348348</td>\n",
              "    </tr>\n",
              "    <tr>\n",
              "      <th>5</th>\n",
              "      <td>9</td>\n",
              "      <td>Out</td>\n",
              "      <td>34.964339</td>\n",
              "    </tr>\n",
              "    <tr>\n",
              "      <th>1</th>\n",
              "      <td>7</td>\n",
              "      <td>Out</td>\n",
              "      <td>31.888889</td>\n",
              "    </tr>\n",
              "    <tr>\n",
              "      <th>3</th>\n",
              "      <td>8</td>\n",
              "      <td>Out</td>\n",
              "      <td>31.193277</td>\n",
              "    </tr>\n",
              "  </tbody>\n",
              "</table>\n",
              "</div>"
            ],
            "text/plain": [
              "    month Out_In       temp\n",
              "7      10    Out  41.885607\n",
              "9      11    Out  40.498508\n",
              "11     12    Out  37.348348\n",
              "5       9    Out  34.964339\n",
              "1       7    Out  31.888889\n",
              "3       8    Out  31.193277"
            ]
          },
          "metadata": {},
          "output_type": "display_data"
        }
      ],
      "source": [
        "display(monthly_type_split[monthly_type_split['Out_In']=='In'].sort_values(by=['temp'], ascending=True))\n",
        "display(monthly_type_split[monthly_type_split['Out_In']=='Out'].sort_values(by=['temp'], ascending=True))\n",
        "\n",
        "display(monthly_type_split[monthly_type_split['Out_In']=='In'].sort_values(by=['temp'], ascending=False))\n",
        "display(monthly_type_split[monthly_type_split['Out_In']=='Out'].sort_values(by=['temp'], ascending=False))"
      ]
    },
    {
      "cell_type": "markdown",
      "metadata": {
        "id": "pfNGF7Htmvsp"
      },
      "source": [
        "---\n",
        "## My Observations so far...\n",
        "\n",
        "### Observations regarding inconsistencies in data\n",
        "1. Even though the max and min date in the dataset give an impression that the sensor carried out measurements for an year, distinct number of days is only 86 days.\n",
        "2. After de-duplication of records, the number of records is 37,268. Out of which, the distribution of outside vs inside temp ratio is 73:27, i.e. 73% of records show a temperature measurement of the 'Outside'.\n",
        "3. Going deeper, we can see that out of 86 days, there were 14 days when only a single type of temperature (either 'In' or 'Out') measurement was taken and during the remaining 72 days both kind of temperature measurement was taken.\n",
        "4. Further, out of the 14 days where only a single type of temperature was measured, 2 days recorded 'Only Inside' temperature and 12 days recorded 'Only Outside' temperature.\n",
        "5. Out of our 37,368 records, there are 4,148 records where a single type of temperature was recorded and 33,120 records measured both types of temperature.\n",
        "6. Further, out of 4,148 records with single type of temperature, 302 are for 'Inside' and 3,846 are for 'Outside'. Also, out of  33,120 records with both type of temperatures, 9,640 are for 'Inside' and 23,480 are for 'Outside'.\n",
        "\n",
        "### General contextual observations\n",
        "1. Maximum temperature is 51 degrees and minimum temperature is 21 degrees.\n",
        "2. Month with the minimum mean temperature is August and the maximum temperature is October.\n",
        "3. Month with the minimum Inside Temperature is December and maximum Inside Temperature is October.\n",
        "4. Month with the minimum Outside Temperature is August and maximum Outside Temperature is October.\n"
      ]
    },
    {
      "cell_type": "code",
      "execution_count": null,
      "metadata": {
        "id": "3b0VmswLmvss",
        "trusted": true
      },
      "outputs": [],
      "source": []
    }
  ],
  "metadata": {
    "colab": {
      "provenance": []
    },
    "kernelspec": {
      "display_name": ".venv",
      "language": "python",
      "name": "python3"
    },
    "language_info": {
      "codemirror_mode": {
        "name": "ipython",
        "version": 3
      },
      "file_extension": ".py",
      "mimetype": "text/x-python",
      "name": "python",
      "nbconvert_exporter": "python",
      "pygments_lexer": "ipython3",
      "version": "3.11.9"
    }
  },
  "nbformat": 4,
  "nbformat_minor": 0
}
